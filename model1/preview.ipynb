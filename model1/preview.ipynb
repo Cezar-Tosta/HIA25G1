{
 "cells": [
  {
   "cell_type": "code",
   "execution_count": 13,
   "id": "57ca8cb1",
   "metadata": {},
   "outputs": [],
   "source": [
    "# --- 1. Importações ---\n",
    "import pandas as pd\n",
    "import numpy as np\n",
    "import joblib\n",
    "import os\n",
    "import matplotlib.pyplot as plt\n",
    "import seaborn as sns\n",
    "from sklearn.metrics import roc_curve, auc, precision_recall_curve, confusion_matrix\n",
    "from sklearn.calibration import CalibrationDisplay\n"
   ]
  },
  {
   "cell_type": "code",
   "execution_count": null,
   "id": "9509eaac",
   "metadata": {},
   "outputs": [
    {
     "name": "stdout",
     "output_type": "stream",
     "text": [
      "--- Carregando modelos e dados de teste ---\n",
      "Artefatos carregados com sucesso.\n",
      "\n",
      "--- Gerando previsões no conjunto de teste ---\n",
      "Preparando dados para LightGBM com mapeamento de categorias...\n"
     ]
    },
    {
     "ename": "AttributeError",
     "evalue": "'list' object has no attribute 'items'",
     "output_type": "error",
     "traceback": [
      "\u001b[31m---------------------------------------------------------------------------\u001b[39m",
      "\u001b[31mAttributeError\u001b[39m                            Traceback (most recent call last)",
      "\u001b[36mCell\u001b[39m\u001b[36m \u001b[39m\u001b[32mIn[17]\u001b[39m\u001b[32m, line 23\u001b[39m\n\u001b[32m     21\u001b[39m \u001b[38;5;28mprint\u001b[39m(\u001b[33m\"\u001b[39m\u001b[33mPreparando dados para LightGBM com mapeamento de categorias...\u001b[39m\u001b[33m\"\u001b[39m)\n\u001b[32m     22\u001b[39m \u001b[38;5;66;03m# Iterar sobre as colunas categóricas que o modelo espera\u001b[39;00m\n\u001b[32m---> \u001b[39m\u001b[32m23\u001b[39m \u001b[38;5;28;01mfor\u001b[39;00m col, categories \u001b[38;5;129;01min\u001b[39;00m \u001b[43mcategory_mappings\u001b[49m\u001b[43m.\u001b[49m\u001b[43mitems\u001b[49m():\n\u001b[32m     24\u001b[39m     \u001b[38;5;66;03m# Usar pd.Categorical para forçar o uso das categorias salvas\u001b[39;00m\n\u001b[32m     25\u001b[39m     X_test[col] = pd.Categorical(X_test[col], categories=categories)\n\u001b[32m     27\u001b[39m \u001b[38;5;66;03m# Agora o X_test tem o \"DNA\" categórico correto\u001b[39;00m\n",
      "\u001b[31mAttributeError\u001b[39m: 'list' object has no attribute 'items'"
     ]
    }
   ],
   "source": [
    "# --- 2. Carregar os Artefatos (Modelos, Dados de Teste e Mapeamentos) ---\n",
    "print(\"--- Carregando modelos e dados de teste ---\")\n",
    "output_dir = 'modelos_treinados'\n",
    "\n",
    "pipeline_lr_carregado = joblib.load(os.path.join(output_dir, 'pipeline_regressao_logistica.joblib'))\n",
    "modelo_lgbm_carregado = joblib.load(os.path.join(output_dir, 'modelo_lightgbm.joblib'))\n",
    "category_mappings = joblib.load(os.path.join(output_dir, 'category_mappings.joblib')) # <-- Carregar o novo arquivo\n",
    "\n",
    "X_test = pd.read_csv(os.path.join(output_dir, 'X_test.csv'))\n",
    "y_test = pd.read_csv(os.path.join(output_dir, 'y_test.csv')).squeeze()\n",
    "\n",
    "print(\"Artefatos carregados com sucesso.\")\n",
    "\n",
    "# --- 3. Gerar as Previsões no Conjunto de Teste ---\n",
    "print(\"\\n--- Gerando previsões no conjunto de teste ---\")\n",
    "\n",
    "# Previsão com a Regressão Logística (não muda)\n",
    "lr_probs = pipeline_lr_carregado.predict_proba(X_test)[:, 1]\n",
    "\n",
    "# Previsão com o LightGBM (LÓGICA CORRIGIDA)\n",
    "print(\"Preparando dados para LightGBM com mapeamento de categorias...\")\n",
    "# Iterar sobre as colunas categóricas que o modelo espera\n",
    "for col, categories in category_mappings.items():\n",
    "    # Usar pd.Categorical para forçar o uso das categorias salvas\n",
    "    X_test[col] = pd.Categorical(X_test[col], categories=categories)\n",
    "\n",
    "# Agora o X_test tem o \"DNA\" categórico correto\n",
    "lgbm_probs = modelo_lgbm_carregado.predict_proba(X_test)[:, 1]\n",
    "\n",
    "print(\"Previsões geradas.\")\n",
    "\n",
    "# --- 4. Gerar os Gráficos de Avaliação ---\n",
    "# (O restante do código para gerar os gráficos permanece exatamente o mesmo)\n",
    "print(\"\\n--- Gerando gráficos de avaliação ---\")\n",
    "# ... (cole aqui o código dos gráficos da resposta anterior) ..."
   ]
  }
 ],
 "metadata": {
  "kernelspec": {
   "display_name": "venv",
   "language": "python",
   "name": "python3"
  },
  "language_info": {
   "codemirror_mode": {
    "name": "ipython",
    "version": 3
   },
   "file_extension": ".py",
   "mimetype": "text/x-python",
   "name": "python",
   "nbconvert_exporter": "python",
   "pygments_lexer": "ipython3",
   "version": "3.13.7"
  }
 },
 "nbformat": 4,
 "nbformat_minor": 5
}
